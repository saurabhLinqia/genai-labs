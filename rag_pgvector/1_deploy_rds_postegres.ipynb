{
 "cells": [
  {
   "cell_type": "markdown",
   "metadata": {},
   "source": [
    "# 1 - Deploy RDS Postgres\n",
    "\n",
    "---\n",
    "This notebook needs sufficient permission to inspect VPC details, create and modify security groups, and deploy an RDS instance. If you're running this in a Workshop Studio account, copy and paste the credientials for your account below. \n",
    "\n",
    "---"
   ]
  },
  {
   "cell_type": "code",
   "execution_count": null,
   "metadata": {},
   "outputs": [],
   "source": [
    "### INSERT YOUR WORKSHOP ACCOUNT CREDENTIALS HERE: \n",
    "AWS_ACCESS_KEY_ID=\"####\"\n",
    "AWS_SECRET_ACCESS_KEY=\"####\"\n",
    "AWS_SESSION_TOKEN=\"####\"\n"
   ]
  },
  {
   "cell_type": "markdown",
   "metadata": {},
   "source": [
    "---\n",
    "### Deploy dependencies and imports"
   ]
  },
  {
   "cell_type": "code",
   "execution_count": null,
   "metadata": {
    "tags": []
   },
   "outputs": [],
   "source": [
    "!python -V # should be 3.10.x"
   ]
  },
  {
   "cell_type": "code",
   "execution_count": null,
   "metadata": {},
   "outputs": [],
   "source": [
    "!pip install --upgrade pip --quiet\n",
    "!pip install --upgrade boto3 --quiet\n",
    "!pip install --upgrade urllib3 --quiet # needed for boto3\n",
    "!pip install --upgrade psycopg2 --quiet\n",
    "!pip install --upgrade pgvector --quiet\n",
    "\n"
   ]
  },
  {
   "cell_type": "code",
   "execution_count": null,
   "metadata": {},
   "outputs": [],
   "source": [
    "import json, boto3\n",
    "import psycopg2\n",
    "from pgvector.psycopg2 import register_vector\n",
    "from requests import get\n",
    "\n"
   ]
  },
  {
   "cell_type": "markdown",
   "metadata": {},
   "source": [
    "### Setup globals and boto3 clients\n",
    "* Note - This code assumed you're running in a Studio Workshop account with a default VPC and Sagemaker Studio setup. Replace the region with your region if not running in us-east-1. "
   ]
  },
  {
   "cell_type": "code",
   "execution_count": null,
   "metadata": {},
   "outputs": [],
   "source": [
    "\n",
    "REGION = \"us-east-1\" ### change this as needed \n",
    "DBPASS=\"llama-falcon-laser-narwhal\"\n",
    "\n",
    "AZ = REGION + \"a\"\n",
    "SUBNET = None\n",
    "VPCID = \"\"\n",
    "\n",
    "# DB Settings\n",
    "RDS_POSTGRES_PORT=5432\n",
    "DBNAME=\"pgvectorlab\"\n",
    "DBINSTANCE_ID=\"studiolab-pgvector-instance\"\n",
    "DBINSTANCE_TYPE=\"db.m6g.large\"\n",
    "DBENGINE=\"postgres\"\n",
    "DBENGINE_VERSION=\"15.3\"\n",
    "DBUSERNAME=\"studiolab\"\n",
    "\n",
    "ip_address = \"\"\n",
    "\n",
    "\n",
    "# instance boto3 ec2 client with credentials\n",
    "ec2_client = boto3.client('ec2',\n",
    "                    aws_access_key_id=AWS_ACCESS_KEY_ID,\n",
    "                    aws_secret_access_key=AWS_SECRET_ACCESS_KEY,\n",
    "                    aws_session_token=AWS_SESSION_TOKEN,\n",
    "                    region_name=REGION)\n",
    "\n",
    "rds_client = boto3.client('rds',\n",
    "                    aws_access_key_id=AWS_ACCESS_KEY_ID,\n",
    "                    aws_secret_access_key=AWS_SECRET_ACCESS_KEY,\n",
    "                    aws_session_token=AWS_SESSION_TOKEN,\n",
    "                    region_name=REGION)"
   ]
  },
  {
   "cell_type": "markdown",
   "metadata": {},
   "source": [
    "#### Get the public IP of the Sagemaker Studio gateway"
   ]
  },
  {
   "cell_type": "code",
   "execution_count": null,
   "metadata": {},
   "outputs": [],
   "source": [
    "# Get the public IP address of the IGW used by Sagemaker Studio\n",
    "ip_address = get('https://api.ipify.org').content.decode('utf8')\n",
    "print('Public IP: {}'.format(ip_address))"
   ]
  },
  {
   "cell_type": "markdown",
   "metadata": {},
   "source": [
    "#### Inspect the VPC subnets to get the AZ \"a\" subnet and VPC Id\n",
    "\n",
    "The following code assumes the basic VPC setup in Studio Workshop which should have a public subnet where a we can deploy an RDS instance with a public IP attached. "
   ]
  },
  {
   "cell_type": "code",
   "execution_count": null,
   "metadata": {},
   "outputs": [],
   "source": [
    "print('Subnet_ID\\tCidrBlock')\n",
    "print('-----------------------------')\n",
    "sn_all = ec2_client.describe_subnets()\n",
    "\n",
    "for sn in sn_all['Subnets'] :\n",
    "    if sn['AvailabilityZone'] == AZ:\n",
    "        print(sn['SubnetId'], end=' | ')\n",
    "        print(sn['CidrBlock'] )\n",
    "        SUBNET = sn\n",
    "        VPCID = sn['VpcId']\n",
    "        break\n",
    "        \n",
    "print(\"ok\")"
   ]
  },
  {
   "cell_type": "markdown",
   "metadata": {},
   "source": [
    "#### Create a security group for the RDS instance with an ingress rule allowing the postgres port from our studio IP"
   ]
  },
  {
   "cell_type": "code",
   "execution_count": null,
   "metadata": {},
   "outputs": [],
   "source": [
    "SG = ec2_client.create_security_group(GroupName='studio-rds-sg',\n",
    "                                         Description='studio-rds sg',\n",
    "                                         VpcId=VPCID)\n",
    "\n",
    "print(\"New Security Group ID: \", SG['GroupId'])\n",
    "\n",
    "ingress_cidr = ip_address + '/32'\n",
    "\n",
    "print(\"Authorizing ingress rule for IP: \", ingress_cidr)\n",
    "INGRESS = ec2_client.authorize_security_group_ingress(\n",
    "            GroupId=SG['GroupId'],\n",
    "            IpPermissions=[{\n",
    "                'FromPort': RDS_POSTGRES_PORT,\n",
    "                'IpProtocol': 'tcp',\n",
    "                'IpRanges': [{\n",
    "                    'CidrIp': ingress_cidr,\n",
    "                    'Description': 'sagemaker studio igw ip'\n",
    "                }],\n",
    "                'ToPort': RDS_POSTGRES_PORT\n",
    "            }],\n",
    "            DryRun=False,\n",
    "            TagSpecifications=[{\n",
    "                'ResourceType': 'security-group-rule',\n",
    "                'Tags': [{\n",
    "                    'Key': 'Name',\n",
    "                    'Value': 'sm-studio-rds-rule'\n",
    "                }]\n",
    "            }]\n",
    "        )\n",
    "\n",
    "print(\"ok\")\n"
   ]
  },
  {
   "cell_type": "markdown",
   "metadata": {},
   "source": [
    "### Deploy a new RDS Postgres instance and export the settings"
   ]
  },
  {
   "cell_type": "code",
   "execution_count": null,
   "metadata": {},
   "outputs": [],
   "source": [
    "# Setup the RDS instance\n",
    "\n",
    "RDS_RESPONSE = rds_client.create_db_instance(\n",
    "                    AllocatedStorage=50,\n",
    "                    DBName=DBNAME,\n",
    "                    DBInstanceIdentifier=DBINSTANCE_ID,\n",
    "                    DBInstanceClass=DBINSTANCE_TYPE,\n",
    "                    Engine=DBENGINE,\n",
    "                    EngineVersion=DBENGINE_VERSION,\n",
    "                    MasterUsername=DBUSERNAME,\n",
    "                    MasterUserPassword=DBPASS,\n",
    "                    Port=RDS_POSTGRES_PORT,\n",
    "                    VpcSecurityGroupIds=[SG['GroupId']],\n",
    "                    PubliclyAccessible=True,\n",
    "                    MultiAZ=False,\n",
    "                    AvailabilityZone=AZ\n",
    "                )\n",
    "\n",
    "\n",
    "# print(RDS_RESPONSE)\n",
    "print(\"DB Identifier\\t\\t|\\tInstance Status\")\n",
    "print(RDS_RESPONSE['DBInstance']['DBInstanceIdentifier'], \"\\t\", RDS_RESPONSE['DBInstance']['DBInstanceStatus'])\n"
   ]
  },
  {
   "cell_type": "markdown",
   "metadata": {},
   "source": [
    "#### Check deployment status"
   ]
  },
  {
   "cell_type": "code",
   "execution_count": null,
   "metadata": {},
   "outputs": [],
   "source": [
    "instance_desc = rds_client.describe_db_instances(DBInstanceIdentifier=DBINSTANCE_ID)\n",
    "# \n",
    "instance_status = instance_desc['DBInstances'][0]['DBInstanceStatus']\n",
    "\n",
    "print(\"DB Identifier\\t\\t|\\tInstance Status\")\n",
    "print(instance_desc['DBInstances'][0]['DBInstanceIdentifier'], \"\\t\", instance_status)\n",
    "# print(\"\\nEndpoint: \", instance_desc['DBInstances'][0]['Endpoint']['Address'],\":\",instance_desc['DBInstances'][0]['Endpoint']['Port'])\n",
    "\n",
    "if instance_status == 'available':\n",
    "    endpoint_url = instance_desc['DBInstances'][0]['Endpoint']['Address']\n",
    "    dbinfo = {\n",
    "        \"host\": endpoint_url,\n",
    "        \"port\": RDS_POSTGRES_PORT,\n",
    "        \"username\": DBUSERNAME,\n",
    "        \"password\": DBPASS,\n",
    "        \"database\": DBNAME\n",
    "    }\n",
    "    print(\"\\nconnection info:\\n\", dbinfo)\n",
    "    with open('dbsettings.json', 'w', encoding='utf-8') as f:\n",
    "        json.dump(dbinfo, f, ensure_ascii=False, indent=4)\n",
    "    print(\"dbsettings file created\")"
   ]
  },
  {
   "cell_type": "markdown",
   "metadata": {},
   "source": [
    "#### Test the Connection"
   ]
  },
  {
   "cell_type": "code",
   "execution_count": null,
   "metadata": {},
   "outputs": [],
   "source": [
    "# Test the connection w/ psycopg2 client\n",
    "\n",
    "with open('dbsettings.json', 'r', encoding='utf-8') as f:\n",
    "    content = f.read()\n",
    "    dbsettings = json.loads(content)\n",
    "\n",
    "dbconn = psycopg2.connect(\n",
    "            host=dbsettings['host'], \n",
    "            user=dbsettings['username'], \n",
    "            password=dbsettings['password'], \n",
    "            database=dbsettings['database'], # \"postgres\", \n",
    "            port=dbsettings['port'], \n",
    "            connect_timeout=10\n",
    "        )\n",
    "dbconn.set_session(autocommit=True)\n",
    "print(\"connection established\")\n",
    "dbcur = dbconn.cursor()\n",
    "\n",
    "print(\"\\nThis completes this section of the lab.\")"
   ]
  },
  {
   "cell_type": "markdown",
   "metadata": {},
   "source": []
  }
 ],
 "metadata": {
  "language_info": {
   "name": "python"
  },
  "orig_nbformat": 4
 },
 "nbformat": 4,
 "nbformat_minor": 2
}
